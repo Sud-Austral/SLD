{
 "cells": [
  {
   "cell_type": "code",
   "execution_count": 35,
   "metadata": {},
   "outputs": [],
   "source": [
    "##Autores: Luis Monsalve, Ian Meza\n",
    "#Fecha 15/07/2021\n",
    "#Descripción: Secuencia para crear un archivo de estilos para GeoServer en formato .sld \n",
    "\n",
    "\n",
    "#Importación\n",
    "import pandas as pd\n",
    "\n",
    "#Funciones\n",
    "def leerreferencia():\n",
    "    a=[]\n",
    "    with open('Plantilla_sld.txt', 'r') as f:\n",
    "        a = f.read()\n",
    "    f.closed\n",
    "    return a\n",
    "    \n",
    "def generarrangos(minimo,maximo):\n",
    "    diferencia = maximo - minimo\n",
    "    div = diferencia/5\n",
    "    \n",
    "    r1i = minimo\n",
    "    r1s = div+minimo\n",
    "    \n",
    "    r2i = r1s\n",
    "    r2s = div+r2i\n",
    "    \n",
    "    r3i = r2s\n",
    "    r3s = div+r3i\n",
    "    \n",
    "    r4i = r3s\n",
    "    r4s = div+r4i\n",
    "    \n",
    "    r5i = r4s\n",
    "    r5s = maximo\n",
    "    \n",
    "    r1 = str(r1i)+\" - \"+str(r1s)\n",
    "    r2 = str(r2i)+\" - \"+str(r2s)\n",
    "    r3 = str(r3i)+\" - \"+str(r3s)\n",
    "    r4 = str(r4i)+\" - \"+str(r4s)\n",
    "    r5 = str(r5i)+\" - \"+str(r5s)\n",
    "    \n",
    "    rangos = [r1,r2,r3,r4,r5]\n",
    "    minimos = [r1i,r2i,r3i,r4i,r5i]\n",
    "    maximos = [r1s,r2s,r3s,r4s,r5s]\n",
    "    \n",
    "    return rangos, minimos, maximos\n",
    "\n",
    "def sustitucion(minimo,maximo,variable):\n",
    "    a = leerreferencia()\n",
    "    inicio = a.split(\"<se:Rule>\")[0]\n",
    "    #.replace(\"Datos_Censo_2017_Comuna copiar\", \"Nombre_de_tabla\")\n",
    "    final = a.split(\"<se:Rule>\")[1].split(\"</se:Rule>\")[1]\n",
    "    referencia = \"\\n        <se:Rule>\"+a.split(\"<se:Rule>\")[1].split(\"</se:Rule>\")[0]+\"</se:Rule>\"\n",
    "    referencia = \"        <se:Rule>\"+a.split(\"<se:Rule>\")[1].replace(\"TOTAL_PERS\", variable)\n",
    "    \n",
    "    rangos,minimos,maximos = generarrangos(minimo,maximo)\n",
    "    \n",
    "    paleta = [\"A0ECD0\",\"94DDBC\",\"88BB92\",\"7B886B\",\"714955\"]\n",
    "    \n",
    "    salida = []\n",
    "    for i in range(5):\n",
    "        \n",
    "        ref = referencia.replace(\"<se:Name>6444 - 65152</se:Name>\", \"<se:Name>\"+rangos[i]+\"</se:Name>\")\n",
    "        ref = ref.replace(\"<se:Title>6444 - 65152</se:Title>\", \"<se:Title>\"+rangos[i]+\"</se:Title>\")\n",
    "        ref = ref.replace(\"<ogc:Literal>6444</ogc:Literal>\", \"<ogc:Literal>\"+str(minimos[i])+\"</ogc:Literal>\")\n",
    "        ref = ref.replace(\"<ogc:Literal>65151.80000000001018634</ogc:Literal>\", \"<ogc:Literal>\"+str(maximos[i])+\"</ogc:Literal>\")\n",
    "        ref = ref.replace(\"fff5eb\", paleta[i])\n",
    "        salida.append(ref)\n",
    "    \n",
    "    cuerpo = \"\"\n",
    "    for i in salida:\n",
    "        cuerpo = cuerpo+i\n",
    "    salida2 = inicio+cuerpo+final\n",
    "    return salida2\n",
    "\n",
    "def guardararchivo(territorio, variable, minimo , maximo):\n",
    "    text_file = open(f\"{territorio}_{variable}.sld\", \"w\")\n",
    "\n",
    "    text_file.write(sustitucion(minimo,maximo,variable))\n",
    "\n",
    "    text_file.close()"
   ]
  },
  {
   "cell_type": "code",
   "execution_count": 37,
   "metadata": {},
   "outputs": [],
   "source": [
    "#Proceso final\n",
    "df = pd.read_excel(\"Datos_Censo_2017_Comuna.xlsx\")\n",
    "df\n",
    "for i in df[\"REGION\"].unique():\n",
    "    df_aux = df[df[\"REGION\"] == i ]\n",
    "    for j in df.columns[8:-2]:\n",
    "        minimo = df_aux[j].min()\n",
    "        maximo = df_aux[j].max()\n",
    "        \n",
    "        guardararchivo(i,j,minimo,maximo)"
   ]
  },
  {
   "cell_type": "code",
   "execution_count": 34,
   "metadata": {},
   "outputs": [
    {
     "name": "stdout",
     "output_type": "stream",
     "text": [
      "None\n"
     ]
    }
   ],
   "source": [
    "#Pruebas\n",
    "\n",
    "print(guardararchivo(\"Mundo4\",\"Hola\",1,1))"
   ]
  },
  {
   "cell_type": "code",
   "execution_count": null,
   "metadata": {},
   "outputs": [],
   "source": []
  }
 ],
 "metadata": {
  "kernelspec": {
   "display_name": "Python 3",
   "language": "python",
   "name": "python3"
  },
  "language_info": {
   "codemirror_mode": {
    "name": "ipython",
    "version": 3
   },
   "file_extension": ".py",
   "mimetype": "text/x-python",
   "name": "python",
   "nbconvert_exporter": "python",
   "pygments_lexer": "ipython3",
   "version": "3.8.5"
  }
 },
 "nbformat": 4,
 "nbformat_minor": 4
}
